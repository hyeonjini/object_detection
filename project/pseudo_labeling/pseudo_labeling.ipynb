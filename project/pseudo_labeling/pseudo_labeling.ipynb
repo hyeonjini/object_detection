{
 "cells": [
  {
   "cell_type": "code",
   "execution_count": 1,
   "id": "acff9bbd-66c7-49e1-8b41-4d7e8a1106e5",
   "metadata": {},
   "outputs": [],
   "source": [
    "import csv\n",
    "import json\n",
    "import copy"
   ]
  },
  {
   "cell_type": "code",
   "execution_count": 2,
   "id": "4d337246-8077-427f-8d4f-2ce744699200",
   "metadata": {},
   "outputs": [],
   "source": [
    "root = 'dataset'\n",
    "train_json = \"../dataset/train.json\"\n",
    "json_file = None\n",
    "with open(train_json, 'r') as f:\n",
    "    json_file = json.load(f)"
   ]
  },
  {
   "cell_type": "code",
   "execution_count": 3,
   "id": "49ec7be6-a0d9-42d5-96d8-ef53db20b625",
   "metadata": {},
   "outputs": [
    {
     "name": "stdout",
     "output_type": "stream",
     "text": [
      "dict_keys(['info', 'licenses', 'images', 'categories', 'annotations'])\n",
      "4883 23144\n",
      "{'width': 1024, 'height': 1024, 'file_name': 'train/0000.jpg', 'license': 0, 'flickr_url': None, 'coco_url': None, 'date_captured': '2020-12-26 14:44:23', 'id': 0}\n",
      "{'image_id': 0, 'category_id': 0, 'area': 257301.66, 'bbox': [197.6, 193.7, 547.8, 469.7], 'iscrowd': 0, 'id': 0}\n"
     ]
    }
   ],
   "source": [
    "print(json_file.keys())\n",
    "image_id = len(json_file[\"images\"])\n",
    "ann_id = len(json_file[\"annotations\"])\n",
    "\n",
    "# images_form = json_file[\"images\"][0]\n",
    "# ann_form = json_file[\"annotations\"][0]\n",
    "images_form = copy.deepcopy(json_file[\"images\"][0])\n",
    "ann_form = copy.deepcopy(json_file[\"annotations\"][0])\n",
    "\n",
    "print(image_id, ann_id)\n",
    "print(images_form)\n",
    "print(ann_form)"
   ]
  },
  {
   "cell_type": "code",
   "execution_count": 4,
   "id": "a9c18b64-5b86-46f2-ad75-47ef780c59d0",
   "metadata": {
    "tags": []
   },
   "outputs": [
    {
     "name": "stdout",
     "output_type": "stream",
     "text": [
      "{'width': 1024, 'height': 1024, 'file_name': 'test/0000.jpg', 'license': 0, 'flickr_url': None, 'coco_url': None, 'date_captured': '2020-12-26 14:44:23', 'id': 4883}\n",
      "{'image_id': 4883, 'category_id': 7, 'area': 977207.3241459802, 'bbox': [602.4215087890625, 518.9984130859375, 955.3800048828125, 1022.8467407226562], 'iscrowd': 0, 'id': 23144}\n",
      "{'image_id': 4883, 'category_id': 7, 'area': 215858.47876854986, 'bbox': [216.77316284179688, 49.2673225402832, 457.40618896484375, 471.9185791015625], 'iscrowd': 0, 'id': 23145}\n",
      "{'image_id': 4883, 'category_id': 7, 'area': 337573.16370698065, 'bbox': [388.3249206542969, 188.35113525390625, 620.6612548828125, 543.8927612304688], 'iscrowd': 0, 'id': 23146}\n",
      "{'image_id': 4883, 'category_id': 7, 'area': 564364.503858313, 'bbox': [448.34161376953125, 599.6484375, 645.4913940429688, 874.317626953125], 'iscrowd': 0, 'id': 23147}\n",
      "{'image_id': 4883, 'category_id': 7, 'area': 237281.70723573864, 'bbox': [119.4267349243164, 417.924560546875, 328.94635009765625, 721.338623046875], 'iscrowd': 0, 'id': 23148}\n",
      "{'image_id': 4883, 'category_id': 1, 'area': 284880.2198805623, 'bbox': [561.74755859375, 106.62626647949219, 770.2678833007812, 369.84564208984375], 'iscrowd': 0, 'id': 23149}\n",
      "{'image_id': 4883, 'category_id': 7, 'area': 427290.5859288275, 'bbox': [550.9010009765625, 341.1710510253906, 710.12060546875, 601.7155151367188], 'iscrowd': 0, 'id': 23150}\n",
      "{'image_id': 4883, 'category_id': 7, 'area': 535538.7670822442, 'bbox': [645.9031982421875, 333.1717834472656, 880.11767578125, 608.4854125976562], 'iscrowd': 0, 'id': 23151}\n",
      "{'image_id': 4883, 'category_id': 5, 'area': 286818.6711544916, 'bbox': [341.2895812988281, 639.123291015625, 396.48748779296875, 723.3990478515625], 'iscrowd': 0, 'id': 23152}\n",
      "{'image_id': 4883, 'category_id': 7, 'area': 249911.94773469865, 'bbox': [261.5183410644531, 431.4333190917969, 430.8455810546875, 580.0499267578125], 'iscrowd': 0, 'id': 23153}\n",
      "{'image_id': 4883, 'category_id': 5, 'area': 225676.01777658612, 'bbox': [244.2141876220703, 681.6406860351562, 301.3170166015625, 748.9653930664062], 'iscrowd': 0, 'id': 23154}\n",
      "{'image_id': 4883, 'category_id': 6, 'area': 380936.4615127817, 'bbox': [425.510009765625, 461.3352355957031, 564.6929321289062, 674.5904541015625], 'iscrowd': 0, 'id': 23155}\n"
     ]
    }
   ],
   "source": [
    "with open('pseudo.csv', 'r', newline='') as csv_file:\n",
    "    reader = csv.reader(csv_file)\n",
    "    header = True\n",
    "    log = 1\n",
    "    for line in reader:\n",
    "        \n",
    "        # header 부분 pass\n",
    "        if header:\n",
    "            header = False\n",
    "            continue\n",
    "        \n",
    "        # labeling data, path load\n",
    "        labeling, path = line\n",
    "        \n",
    "        # class, conf, bbox -> len:6\n",
    "        labeling = labeling.split()\n",
    "        if len(labeling) % 6 != 0:\n",
    "            raise Exception(\"class, conf, bbox 형식 error\")\n",
    "        \n",
    "        # images 추가\n",
    "        i_form = copy.deepcopy(images_form)\n",
    "        i_form[\"file_name\"] = path\n",
    "        i_form[\"id\"] = image_id\n",
    "        json_file[\"images\"].append(i_form)\n",
    "        if log == 1:\n",
    "            print(i_form)\n",
    "        # annotaion 추가\n",
    "        for i in range(0, len(labeling), 6):\n",
    "            category = int(labeling[i])\n",
    "            conf = labeling[i+1]\n",
    "            bbox = list(map(float, labeling[i+2:i+6]))\n",
    "            area = bbox[2] * bbox[3]\n",
    "            a_form = copy.deepcopy(ann_form)\n",
    "            a_form[\"image_id\"] = image_id\n",
    "            a_form[\"category_id\"] = category\n",
    "            a_form[\"area\"] = area\n",
    "            a_form[\"bbox\"] = bbox\n",
    "            a_form[\"id\"] = ann_id\n",
    "            json_file[\"annotations\"].append(a_form)\n",
    "            ann_id += 1\n",
    "            \n",
    "            if log == 1:\n",
    "                print(a_form)    \n",
    "        image_id += 1\n",
    "        \n",
    "        log += 1"
   ]
  },
  {
   "cell_type": "code",
   "execution_count": 5,
   "id": "15b9ae06-7eeb-45dd-ba9a-e684c236cc01",
   "metadata": {},
   "outputs": [],
   "source": [
    "with open(\"pseudo.json\", 'w') as f:\n",
    "    json.dump(json_file, f)"
   ]
  },
  {
   "cell_type": "code",
   "execution_count": null,
   "id": "791a689b-c0bf-4700-a091-f727901c8360",
   "metadata": {},
   "outputs": [],
   "source": []
  }
 ],
 "metadata": {
  "kernelspec": {
   "display_name": "detection",
   "language": "python",
   "name": "detection"
  },
  "language_info": {
   "codemirror_mode": {
    "name": "ipython",
    "version": 3
   },
   "file_extension": ".py",
   "mimetype": "text/x-python",
   "name": "python",
   "nbconvert_exporter": "python",
   "pygments_lexer": "ipython3",
   "version": "3.7.11"
  }
 },
 "nbformat": 4,
 "nbformat_minor": 5
}
